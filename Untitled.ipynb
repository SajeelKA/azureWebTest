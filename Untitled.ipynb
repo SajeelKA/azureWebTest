{
 "cells": [
  {
   "cell_type": "code",
   "execution_count": 11,
   "id": "e64fb43d",
   "metadata": {},
   "outputs": [],
   "source": [
    "from bs4 import BeautifulSoup\n",
    "import requests\n",
    "import numpy as np\n",
    "import pandas as pd\n",
    "import os\n",
    "from flask import Flask, render_template, request\n",
    "\n",
    "def findTblAndHeaders(teamReq):\n",
    "    fullURL = ('https://baseballsavant.mlb.com/statcast_search?hfPT=&hfAB=&hfGT=R%7C&hfPR=&hfZ=&hfStadium=&hfBBL=&hfNewZones=&hfPull=&hfC=&hfSea=2024%7C&hfSit='\n",
    "                 '&player_type=batter&hfOuts=&hfOpponent=&pitcher_throws=&batter_stands=&hfSA=&game_date_gt=&game_date_lt=&hfMo=&hfTeam='\n",
    "                    + teamReq + '%7C&home_road=&hfRO=&position=&hfInfield=&hfOutfield=&hfInn=&hfBBT=&hfFlag=&metric_1=&group_by=name-event&min_pitches=0'\n",
    "                 '&min_results=0&min_pas=0&sort_col=ba&player_event_sort=api_h_launch_speed&sort_order=desc&chk_event_release_speed=on&chk_event_launch_speed=on'\n",
    "                 '&chk_event_estimated_ba_using_speedangle=on&chk_event_estimated_slg_using_speedangle=on#results')\n",
    "    print('getting results from:', fullURL)\n",
    "    page = requests.get(fullURL)\n",
    "    soup = BeautifulSoup(page.content, 'html.parser') \n",
    "    if 'Error code' in page:\n",
    "        return page, []\n",
    "    results=soup.find(id=\"search-results\")\n",
    "    tbl=results.find(\"table\")\n",
    "    cells=results.find_all(\"td\")\n",
    "    headers=results.find_all(\"thead\")    \n",
    "    headerList = [h.text for h in headers[0].find_all(\"th\")]\n",
    "    return tbl, headerList\n",
    "\n",
    "def checkRow(theRow):\n",
    "    cols = theRow.find_all(\"td\")\n",
    "    if len(cols) > 1:        \n",
    "        return True\n",
    "    return False\n",
    "    \n",
    "def getRow(theRow):\n",
    "    oneRow = []\n",
    "    cols = theRow.find_all(\"td\")\n",
    "    for c in cols:\n",
    "        oneRow.append(c.text)\n",
    "    return oneRow\n",
    "\n",
    "def getTable(theTable):\n",
    "    rows = theTable.find_all(\"tr\")\n",
    "    dataRows = [] #get all current stats\n",
    "    for r in rows: \n",
    "        if checkRow(r):\n",
    "            dataRows.append(getRow(r))\n",
    "    return dataRows\n",
    "\n",
    "def getRawData(team):\n",
    "    typeDict = {'Player':'string','Team':'string','Result':'string','Game Date':'string','Vs.':'string','Pitch (MPH)':'float16','EV (MPH)':'float16','xBA':'float16',\n",
    "                'xSLG':'float16'}\n",
    "    tbl, headerList = findTblAndHeaders(team)\n",
    "    if headerList == []:\n",
    "        print('timeout')\n",
    "    myTbl = getTable(tbl)\n",
    "    newTbl = [[c.replace('\\n', '').strip() for c in r] for r in myTbl]\n",
    "    newHeaders = [h.replace('\\n', '').strip() for h in headerList]\n",
    "    rawLogsDf = pd.DataFrame(newTbl, columns= newHeaders)\n",
    "    reqHeaders = [h for h in newHeaders if len(h) > 1 and h[:2] != 'Rk']\n",
    "    rawLogsDf = rawLogsDf[reqHeaders]    \n",
    "    rawLogsDf = rawLogsDf.astype(typeDict).sort_values(by = 'Game Date', ascending=False)\n",
    "    \n",
    "    return rawLogsDf\n",
    "    \n",
    "def writeToFile(output, fileName):\n",
    "    with open(fileName, 'w') as f:        \n",
    "        f.write(output)  \n",
    "        f.close()\n",
    "    \n",
    "def DfToTbl(df):\n",
    "    out = '<html><head><style>table {  font-family: arial, sans-serif;  border-collapse: collapse;  width: 100%;}'\n",
    "    out += 'td, th {  border: 1px solid #dddddd;  text-align: left;  padding: 8px;} tr:nth-child(even) '\n",
    "    out += '{background-color: #dddddd;}</style></head>'\n",
    "    out += '<table>'\n",
    "    headers = list(df.columns)\n",
    "    out += '<tr>'\n",
    "    for h in headers:\n",
    "        out += '<th>' + h + '</th>'\n",
    "    out += '</tr>'\n",
    "    for r in range(len(df)):\n",
    "        out += '<tr>'\n",
    "        for c in range(len(headers)):\n",
    "            out += '<td>' + str(df.iloc[r,c]) + '</td>'\n",
    "        out += '</tr>'\n",
    "    out += '</table></html>'\n",
    "\n",
    "    return out\n",
    "    \n",
    "def makeDropDownFromList(vals):\n",
    "\n",
    "    out = '<form method=\"post\"> <select name = \"team\" onchange = \"this.form.submit()\">'\n",
    "\n",
    "    for v in vals:\n",
    "        out += '<option>' + v + '</option>'\n",
    "    out += '</select></form>'\n",
    "    \n",
    "    return out\n",
    "\n",
    "app = Flask(__name__)\n",
    "\n",
    "@app.route('/', methods=('GET', 'POST'))\n",
    "def index():    \n",
    "        \n",
    "    teams = ['ATL', 'AZ', 'BAL', 'BOS', 'CHC', 'CIN', 'CLE', 'COL', 'CWS', 'DET', 'HOU', 'KC', 'LAA', 'LAD',\n",
    "             'MIA', 'MIL', 'MIN', 'NYM', 'NYY', 'OAK', 'PHI', 'PIT', 'SD', 'SEA', 'SF', 'STL', 'TB ', 'TEX', 'TOR', 'WSH']\n",
    "    \n",
    "    htmlReq = '<h1> Game Logs </h1> <br><br> <h2> Please select team: <h2>'\n",
    "    htmlReq = makeDropDownFromList(teams)\n",
    "    \n",
    "    htmlReq += '<br><br>'\n",
    "    \n",
    "    if request.method == 'POST':\n",
    "        print('team is:', request.form['team'])\n",
    "        df = getRawData(request.form['team'])\n",
    "        htmlReq += DfToTbl(df)\n",
    "\n",
    "    writeToFile(htmlReq, os.path.join(os.getcwd(), 'templates/rawData.html'))\n",
    "    \n",
    "    return render_template('rawData.html')\n",
    "\n"
   ]
  },
  {
   "cell_type": "code",
   "execution_count": 12,
   "id": "bc26c37a",
   "metadata": {},
   "outputs": [
    {
     "name": "stdout",
     "output_type": "stream",
     "text": [
      "getting results from: https://baseballsavant.mlb.com/statcast_search?hfPT=&hfAB=&hfGT=R%7C&hfPR=&hfZ=&hfStadium=&hfBBL=&hfNewZones=&hfPull=&hfC=&hfSea=2024%7C&hfSit=&player_type=batter&hfOuts=&hfOpponent=&pitcher_throws=&batter_stands=&hfSA=&game_date_gt=&game_date_lt=&hfMo=&hfTeam=AZ%7C&home_road=&hfRO=&position=&hfInfield=&hfOutfield=&hfInn=&hfBBT=&hfFlag=&metric_1=&group_by=name-event&min_pitches=0&min_results=0&min_pas=0&sort_col=ba&player_event_sort=api_h_launch_speed&sort_order=desc&chk_event_release_speed=on&chk_event_launch_speed=on&chk_event_estimated_ba_using_speedangle=on&chk_event_estimated_slg_using_speedangle=on#results\n"
     ]
    },
    {
     "ename": "AttributeError",
     "evalue": "'NoneType' object has no attribute 'find'",
     "output_type": "error",
     "traceback": [
      "\u001b[0;31m---------------------------------------------------------------------------\u001b[0m",
      "\u001b[0;31mAttributeError\u001b[0m                            Traceback (most recent call last)",
      "\u001b[0;32m/tmp/ipykernel_74209/956543040.py\u001b[0m in \u001b[0;36m<module>\u001b[0;34m\u001b[0m\n\u001b[0;32m----> 1\u001b[0;31m \u001b[0mgetRawData\u001b[0m\u001b[0;34m(\u001b[0m\u001b[0;34m'AZ'\u001b[0m\u001b[0;34m)\u001b[0m\u001b[0;34m\u001b[0m\u001b[0;34m\u001b[0m\u001b[0m\n\u001b[0m",
      "\u001b[0;32m/tmp/ipykernel_74209/1987747392.py\u001b[0m in \u001b[0;36mgetRawData\u001b[0;34m(team)\u001b[0m\n\u001b[1;32m     48\u001b[0m     typeDict = {'Player':'string','Team':'string','Result':'string','Game Date':'string','Vs.':'string','Pitch (MPH)':'float16','EV (MPH)':'float16','xBA':'float16',\n\u001b[1;32m     49\u001b[0m                 'xSLG':'float16'}\n\u001b[0;32m---> 50\u001b[0;31m     \u001b[0mtbl\u001b[0m\u001b[0;34m,\u001b[0m \u001b[0mheaderList\u001b[0m \u001b[0;34m=\u001b[0m \u001b[0mfindTblAndHeaders\u001b[0m\u001b[0;34m(\u001b[0m\u001b[0mteam\u001b[0m\u001b[0;34m)\u001b[0m\u001b[0;34m\u001b[0m\u001b[0;34m\u001b[0m\u001b[0m\n\u001b[0m\u001b[1;32m     51\u001b[0m     \u001b[0;32mif\u001b[0m \u001b[0mheaderList\u001b[0m \u001b[0;34m==\u001b[0m \u001b[0;34m[\u001b[0m\u001b[0;34m]\u001b[0m\u001b[0;34m:\u001b[0m\u001b[0;34m\u001b[0m\u001b[0;34m\u001b[0m\u001b[0m\n\u001b[1;32m     52\u001b[0m         \u001b[0mprint\u001b[0m\u001b[0;34m(\u001b[0m\u001b[0;34m'timeout'\u001b[0m\u001b[0;34m)\u001b[0m\u001b[0;34m\u001b[0m\u001b[0;34m\u001b[0m\u001b[0m\n",
      "\u001b[0;32m/tmp/ipykernel_74209/1987747392.py\u001b[0m in \u001b[0;36mfindTblAndHeaders\u001b[0;34m(teamReq)\u001b[0m\n\u001b[1;32m     18\u001b[0m         \u001b[0;32mreturn\u001b[0m \u001b[0mpage\u001b[0m\u001b[0;34m,\u001b[0m \u001b[0;34m[\u001b[0m\u001b[0;34m]\u001b[0m\u001b[0;34m\u001b[0m\u001b[0;34m\u001b[0m\u001b[0m\n\u001b[1;32m     19\u001b[0m     \u001b[0mresults\u001b[0m\u001b[0;34m=\u001b[0m\u001b[0msoup\u001b[0m\u001b[0;34m.\u001b[0m\u001b[0mfind\u001b[0m\u001b[0;34m(\u001b[0m\u001b[0mid\u001b[0m\u001b[0;34m=\u001b[0m\u001b[0;34m\"search-results\"\u001b[0m\u001b[0;34m)\u001b[0m\u001b[0;34m\u001b[0m\u001b[0;34m\u001b[0m\u001b[0m\n\u001b[0;32m---> 20\u001b[0;31m     \u001b[0mtbl\u001b[0m\u001b[0;34m=\u001b[0m\u001b[0mresults\u001b[0m\u001b[0;34m.\u001b[0m\u001b[0mfind\u001b[0m\u001b[0;34m(\u001b[0m\u001b[0;34m\"table\"\u001b[0m\u001b[0;34m)\u001b[0m\u001b[0;34m\u001b[0m\u001b[0;34m\u001b[0m\u001b[0m\n\u001b[0m\u001b[1;32m     21\u001b[0m     \u001b[0mcells\u001b[0m\u001b[0;34m=\u001b[0m\u001b[0mresults\u001b[0m\u001b[0;34m.\u001b[0m\u001b[0mfind_all\u001b[0m\u001b[0;34m(\u001b[0m\u001b[0;34m\"td\"\u001b[0m\u001b[0;34m)\u001b[0m\u001b[0;34m\u001b[0m\u001b[0;34m\u001b[0m\u001b[0m\n\u001b[1;32m     22\u001b[0m     \u001b[0mheaders\u001b[0m\u001b[0;34m=\u001b[0m\u001b[0mresults\u001b[0m\u001b[0;34m.\u001b[0m\u001b[0mfind_all\u001b[0m\u001b[0;34m(\u001b[0m\u001b[0;34m\"thead\"\u001b[0m\u001b[0;34m)\u001b[0m\u001b[0;34m\u001b[0m\u001b[0;34m\u001b[0m\u001b[0m\n",
      "\u001b[0;31mAttributeError\u001b[0m: 'NoneType' object has no attribute 'find'"
     ]
    }
   ],
   "source": [
    "getRawData('AZ')"
   ]
  },
  {
   "cell_type": "code",
   "execution_count": 8,
   "id": "b78e4445",
   "metadata": {},
   "outputs": [],
   "source": [
    "def test():    \n",
    "        \n",
    "    teams = ['ATL', 'AZ', 'BAL', 'BOS', 'CHC', 'CIN', 'CLE', 'COL', 'CWS', 'DET', 'HOU', 'KC', 'LAA', 'LAD',\n",
    "             'MIA', 'MIL', 'MIN', 'NYM', 'NYY', 'OAK', 'PHI', 'PIT', 'SD', 'SEA', 'SF', 'STL', 'TB ', 'TEX', 'TOR', 'WSH']\n",
    "    \n",
    "    htmlReq = '<h1> Game Logs </h1> <br><br> <h2> Please select team: <h2>'\n",
    "    htmlReq = makeDropDownFromList(teams)\n",
    "    \n",
    "    htmlReq += '<br><br>'\n",
    "    \n",
    "    \n",
    "    print('team is:', 'TOR')\n",
    "    df = getRawData('TOR')\n",
    "    htmlReq += DfToTbl(df)\n",
    "\n",
    "    writeToFile(htmlReq, os.path.join(os.getcwd(), 'templates/rawData.html'))\n",
    "    \n",
    "#     return render_template('rawData.html')\n"
   ]
  },
  {
   "cell_type": "code",
   "execution_count": 10,
   "id": "59f05cb8",
   "metadata": {},
   "outputs": [
    {
     "name": "stdout",
     "output_type": "stream",
     "text": [
      "team is: TOR\n",
      "getting results from: https://baseballsavant.mlb.com/statcast_search?hfPT=&hfAB=&hfGT=R%7C&hfPR=&hfZ=&hfStadium=&hfBBL=&hfNewZones=&hfPull=&hfC=&hfSea=2024%7C&hfSit=&player_type=batter&hfOuts=&hfOpponent=&pitcher_throws=&batter_stands=&hfSA=&game_date_gt=&game_date_lt=&hfMo=&hfTeam=TOR%7C&home_road=&hfRO=&position=&hfInfield=&hfOutfield=&hfInn=&hfBBT=&hfFlag=&metric_1=&group_by=name-event&min_pitches=0&min_results=0&min_pas=0&sort_col=ba&player_event_sort=api_h_launch_speed&sort_order=desc&chk_event_release_speed=on&chk_event_launch_speed=on&chk_event_estimated_ba_using_speedangle=on&chk_event_estimated_slg_using_speedangle=on#results\n"
     ]
    },
    {
     "ename": "AttributeError",
     "evalue": "'NoneType' object has no attribute 'find'",
     "output_type": "error",
     "traceback": [
      "\u001b[0;31m---------------------------------------------------------------------------\u001b[0m",
      "\u001b[0;31mAttributeError\u001b[0m                            Traceback (most recent call last)",
      "\u001b[0;32m/tmp/ipykernel_74209/756179265.py\u001b[0m in \u001b[0;36m<module>\u001b[0;34m\u001b[0m\n\u001b[0;32m----> 1\u001b[0;31m \u001b[0mtest\u001b[0m\u001b[0;34m(\u001b[0m\u001b[0;34m)\u001b[0m\u001b[0;34m\u001b[0m\u001b[0;34m\u001b[0m\u001b[0m\n\u001b[0m",
      "\u001b[0;32m/tmp/ipykernel_74209/3615953142.py\u001b[0m in \u001b[0;36mtest\u001b[0;34m()\u001b[0m\n\u001b[1;32m     11\u001b[0m \u001b[0;34m\u001b[0m\u001b[0m\n\u001b[1;32m     12\u001b[0m     \u001b[0mprint\u001b[0m\u001b[0;34m(\u001b[0m\u001b[0;34m'team is:'\u001b[0m\u001b[0;34m,\u001b[0m \u001b[0;34m'TOR'\u001b[0m\u001b[0;34m)\u001b[0m\u001b[0;34m\u001b[0m\u001b[0;34m\u001b[0m\u001b[0m\n\u001b[0;32m---> 13\u001b[0;31m     \u001b[0mdf\u001b[0m \u001b[0;34m=\u001b[0m \u001b[0mgetRawData\u001b[0m\u001b[0;34m(\u001b[0m\u001b[0;34m'TOR'\u001b[0m\u001b[0;34m)\u001b[0m\u001b[0;34m\u001b[0m\u001b[0;34m\u001b[0m\u001b[0m\n\u001b[0m\u001b[1;32m     14\u001b[0m     \u001b[0mhtmlReq\u001b[0m \u001b[0;34m+=\u001b[0m \u001b[0mDfToTbl\u001b[0m\u001b[0;34m(\u001b[0m\u001b[0mdf\u001b[0m\u001b[0;34m)\u001b[0m\u001b[0;34m\u001b[0m\u001b[0;34m\u001b[0m\u001b[0m\n\u001b[1;32m     15\u001b[0m \u001b[0;34m\u001b[0m\u001b[0m\n",
      "\u001b[0;32m/tmp/ipykernel_74209/3132404567.py\u001b[0m in \u001b[0;36mgetRawData\u001b[0;34m(team)\u001b[0m\n\u001b[1;32m     48\u001b[0m     typeDict = {'Player':'string','Team':'string','Result':'string','Game Date':'string','Vs.':'string','Pitch (MPH)':'float16','EV (MPH)':'float16','xBA':'float16',\n\u001b[1;32m     49\u001b[0m                 'xSLG':'float16'}\n\u001b[0;32m---> 50\u001b[0;31m     \u001b[0mtbl\u001b[0m\u001b[0;34m,\u001b[0m \u001b[0mheaderList\u001b[0m \u001b[0;34m=\u001b[0m \u001b[0mfindTblAndHeaders\u001b[0m\u001b[0;34m(\u001b[0m\u001b[0mteam\u001b[0m\u001b[0;34m)\u001b[0m\u001b[0;34m\u001b[0m\u001b[0;34m\u001b[0m\u001b[0m\n\u001b[0m\u001b[1;32m     51\u001b[0m     \u001b[0;32mif\u001b[0m \u001b[0mheaderList\u001b[0m \u001b[0;34m==\u001b[0m \u001b[0;34m[\u001b[0m\u001b[0;34m]\u001b[0m\u001b[0;34m:\u001b[0m\u001b[0;34m\u001b[0m\u001b[0;34m\u001b[0m\u001b[0m\n\u001b[1;32m     52\u001b[0m         \u001b[0mprint\u001b[0m\u001b[0;34m(\u001b[0m\u001b[0;34m'timeout'\u001b[0m\u001b[0;34m)\u001b[0m\u001b[0;34m\u001b[0m\u001b[0;34m\u001b[0m\u001b[0m\n",
      "\u001b[0;32m/tmp/ipykernel_74209/3132404567.py\u001b[0m in \u001b[0;36mfindTblAndHeaders\u001b[0;34m(teamReq)\u001b[0m\n\u001b[1;32m     18\u001b[0m         \u001b[0;32mreturn\u001b[0m \u001b[0mfullURL\u001b[0m\u001b[0;34m,\u001b[0m \u001b[0;34m[\u001b[0m\u001b[0;34m]\u001b[0m\u001b[0;34m\u001b[0m\u001b[0;34m\u001b[0m\u001b[0m\n\u001b[1;32m     19\u001b[0m     \u001b[0mresults\u001b[0m\u001b[0;34m=\u001b[0m\u001b[0msoup\u001b[0m\u001b[0;34m.\u001b[0m\u001b[0mfind\u001b[0m\u001b[0;34m(\u001b[0m\u001b[0mid\u001b[0m\u001b[0;34m=\u001b[0m\u001b[0;34m\"search-results\"\u001b[0m\u001b[0;34m)\u001b[0m\u001b[0;34m\u001b[0m\u001b[0;34m\u001b[0m\u001b[0m\n\u001b[0;32m---> 20\u001b[0;31m     \u001b[0mtbl\u001b[0m\u001b[0;34m=\u001b[0m\u001b[0mresults\u001b[0m\u001b[0;34m.\u001b[0m\u001b[0mfind\u001b[0m\u001b[0;34m(\u001b[0m\u001b[0;34m\"table\"\u001b[0m\u001b[0;34m)\u001b[0m\u001b[0;34m\u001b[0m\u001b[0;34m\u001b[0m\u001b[0m\n\u001b[0m\u001b[1;32m     21\u001b[0m     \u001b[0mcells\u001b[0m\u001b[0;34m=\u001b[0m\u001b[0mresults\u001b[0m\u001b[0;34m.\u001b[0m\u001b[0mfind_all\u001b[0m\u001b[0;34m(\u001b[0m\u001b[0;34m\"td\"\u001b[0m\u001b[0;34m)\u001b[0m\u001b[0;34m\u001b[0m\u001b[0;34m\u001b[0m\u001b[0m\n\u001b[1;32m     22\u001b[0m     \u001b[0mheaders\u001b[0m\u001b[0;34m=\u001b[0m\u001b[0mresults\u001b[0m\u001b[0;34m.\u001b[0m\u001b[0mfind_all\u001b[0m\u001b[0;34m(\u001b[0m\u001b[0;34m\"thead\"\u001b[0m\u001b[0;34m)\u001b[0m\u001b[0;34m\u001b[0m\u001b[0;34m\u001b[0m\u001b[0m\n",
      "\u001b[0;31mAttributeError\u001b[0m: 'NoneType' object has no attribute 'find'"
     ]
    }
   ],
   "source": [
    "test()"
   ]
  },
  {
   "cell_type": "code",
   "execution_count": null,
   "id": "2c3f32ba",
   "metadata": {},
   "outputs": [],
   "source": []
  }
 ],
 "metadata": {
  "kernelspec": {
   "display_name": "Python 3 (ipykernel)",
   "language": "python",
   "name": "python3"
  },
  "language_info": {
   "codemirror_mode": {
    "name": "ipython",
    "version": 3
   },
   "file_extension": ".py",
   "mimetype": "text/x-python",
   "name": "python",
   "nbconvert_exporter": "python",
   "pygments_lexer": "ipython3",
   "version": "3.8.10"
  }
 },
 "nbformat": 4,
 "nbformat_minor": 5
}
